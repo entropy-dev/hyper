{
 "cells": [
  {
   "cell_type": "markdown",
   "metadata": {},
   "source": [
    "# Dataset Analysis\n",
    "\n",
    "This notebook analysis a given dataset.\n",
    "\n",
    "Global variables."
   ]
  },
  {
   "cell_type": "code",
   "execution_count": null,
   "metadata": {},
   "outputs": [],
   "source": [
    "path = '/data/nir_data/2017_05_22/WithSpectralCorrection/ShuffeledSpectra/HyperspectralDataNir20170522.hdf5'\n",
    "hist_bins = 256\n",
    "batchsize = 1024*1024*8"
   ]
  },
  {
   "cell_type": "markdown",
   "metadata": {},
   "source": [
    "Dependencies."
   ]
  },
  {
   "cell_type": "code",
   "execution_count": null,
   "metadata": {},
   "outputs": [],
   "source": [
    "from h5py import File as h5file\n",
    "import numpy as np\n",
    "import matplotlib.pyplot as plt\n",
    "%matplotlib inline"
   ]
  },
  {
   "cell_type": "markdown",
   "metadata": {},
   "source": [
    "Loading."
   ]
  },
  {
   "cell_type": "code",
   "execution_count": null,
   "metadata": {},
   "outputs": [],
   "source": [
    "file = h5file(path, 'r')\n",
    "data = file['data']\n",
    "iterations = (data.shape[0] // batchsize) + 1"
   ]
  },
  {
   "cell_type": "markdown",
   "metadata": {},
   "source": [
    "First pass."
   ]
  },
  {
   "cell_type": "code",
   "execution_count": null,
   "metadata": {},
   "outputs": [],
   "source": [
    "data_min = 1000\n",
    "data_max = -1000"
   ]
  },
  {
   "cell_type": "code",
   "execution_count": null,
   "metadata": {},
   "outputs": [],
   "source": [
    "for i in range(iterations):\n",
    "    sample = data[i*batchsize:(i+1)*batchsize]\n",
    "    data_min = min(np.min(sample), data_min)\n",
    "    data_max = max(np.max(sample), data_max)"
   ]
  },
  {
   "cell_type": "markdown",
   "metadata": {},
   "source": [
    "Second pass."
   ]
  },
  {
   "cell_type": "code",
   "execution_count": null,
   "metadata": {},
   "outputs": [],
   "source": [
    "hist_edges = np.linspace(data_min, data_max, hist_bins)\n",
    "hist_buffer = np.zeros(hist_edges.shape[0]-1, dtype=int)"
   ]
  },
  {
   "cell_type": "code",
   "execution_count": null,
   "metadata": {},
   "outputs": [],
   "source": [
    "for i in range(iterations):\n",
    "    sample = data[i*batchsize:(i+1)*batchsize]\n",
    "    tmp_hist, _ = np.histogram(sample, bins=hist_edges)\n",
    "    hist_buffer += tmp_hist"
   ]
  },
  {
   "cell_type": "code",
   "execution_count": null,
   "metadata": {},
   "outputs": [],
   "source": [
    "hist_sum = hist_buffer.sum()\n",
    "hist_means = 0.5 * (hist_edges[1:] + hist_edges[:-1])\n",
    "mean = (hist_means * hist_buffer).sum() / hist_sum\n",
    "variance = ((hist_means-mean)**2 * hist_buffer).sum() / hist_sum\n",
    "sigma = variance ** 0.5"
   ]
  },
  {
   "cell_type": "markdown",
   "metadata": {},
   "source": [
    "Show the results."
   ]
  },
  {
   "cell_type": "code",
   "execution_count": null,
   "metadata": {},
   "outputs": [],
   "source": [
    "print('Min={:.1f} Max={:.1f} Mean={:.1f} Variance={:.1f} Sigma={:.1f}'.format(data_min, data_max, mean, variance, sigma))\n",
    "plt.bar(hist_means, hist_buffer, width=(hist_edges[1]-hist_edges[0]))\n",
    "plt.xlim(min(hist_edges), max(hist_edges))\n",
    "# plt.plot(hist_edges, hist_sum*plt.mlab.normpdf(hist_edges, mean, sigma), 'r-')\n",
    "plt.show()"
   ]
  },
  {
   "cell_type": "code",
   "execution_count": null,
   "metadata": {},
   "outputs": [],
   "source": []
  }
 ],
 "metadata": {
  "kernelspec": {
   "display_name": "Python 3",
   "language": "python",
   "name": "python3"
  },
  "language_info": {
   "codemirror_mode": {
    "name": "ipython",
    "version": 3
   },
   "file_extension": ".py",
   "mimetype": "text/x-python",
   "name": "python",
   "nbconvert_exporter": "python",
   "pygments_lexer": "ipython3",
   "version": "3.6.4"
  }
 },
 "nbformat": 4,
 "nbformat_minor": 2
}
